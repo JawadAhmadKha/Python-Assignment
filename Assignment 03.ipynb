{
 "cells": [
  {
   "cell_type": "code",
   "execution_count": 1,
   "metadata": {},
   "outputs": [
    {
     "name": "stdout",
     "output_type": "stream",
     "text": [
      "Twinkle, twinkle, little star, \n",
      "\tHow I wonder what you are! \n",
      "\t\tUp above the world so high, \n",
      "\t\tLike a diamond in the sky. \n",
      "Twinkle, twinkle, little star, \n",
      "\tHow I wonder what you are!\n"
     ]
    }
   ],
   "source": [
    "#1 pattren\n",
    "\n",
    "print(\"Twinkle, twinkle, little star, \\n\\tHow I wonder what you are! \\n\\t\\tUp above the world so high, \\n\\t\\tLike a diamond in the sky. \\nTwinkle, twinkle, little star, \\n\\tHow I wonder what you are!\")"
   ]
  },
  {
   "cell_type": "code",
   "execution_count": 2,
   "metadata": {},
   "outputs": [
    {
     "name": "stdout",
     "output_type": "stream",
     "text": [
      "3.8.5 (default, Sep  3 2020, 21:29:08) [MSC v.1916 64 bit (AMD64)]\n"
     ]
    }
   ],
   "source": [
    "#2 system version\n",
    "\n",
    "import sys\n",
    "print (sys.version)\n"
   ]
  },
  {
   "cell_type": "code",
   "execution_count": 3,
   "metadata": {},
   "outputs": [
    {
     "name": "stdout",
     "output_type": "stream",
     "text": [
      "Let's show the current time:\n",
      "2021-10-23 15:31:23\n"
     ]
    }
   ],
   "source": [
    "#3 Date and time\n",
    "\n",
    "import datetime\n",
    "now = datetime.datetime.now();\n",
    "print (\"Let's show the current time:\");\n",
    "print (now.strftime (\"%Y-%m-%d %H:%M:%S\"))\n"
   ]
  },
  {
   "cell_type": "code",
   "execution_count": 4,
   "metadata": {},
   "outputs": [
    {
     "name": "stdout",
     "output_type": "stream",
     "text": [
      "Enter radius of circle : 4\n",
      "Area of the circle is: 50.26548245743669\n"
     ]
    }
   ],
   "source": [
    "#4 radius of the circle\n",
    "\n",
    "from math import pi\n",
    "\n",
    "r = float(input (\"Enter radius of circle : \"))\n",
    "\n",
    "print (\"Area of the circle is: \" + str(pi * r**2))\n"
   ]
  },
  {
   "cell_type": "code",
   "execution_count": 5,
   "metadata": {},
   "outputs": [
    {
     "name": "stdout",
     "output_type": "stream",
     "text": [
      "Input your First Name : Jawad\n",
      "Input your Last Name : Khan\n",
      "Hello Khan Jawad\n"
     ]
    }
   ],
   "source": [
    "#5 First and last name in reverse order\n",
    "\n",
    "firstName = input(\"Input your First Name : \")\n",
    "lastName = input(\"Input your Last Name : \")\n",
    "print (\"Hello \" + lastName + \" \" + firstName)\n"
   ]
  },
  {
   "cell_type": "code",
   "execution_count": 6,
   "metadata": {},
   "outputs": [
    {
     "name": "stdout",
     "output_type": "stream",
     "text": [
      " First Number is : 25\n",
      " Second Number is : 35\n",
      " It's Addition is : 60\n"
     ]
    }
   ],
   "source": [
    "#6 Addition\n",
    "\n",
    "j = int(input(\" First Number is : \"))\n",
    "k = int(input(\" Second Number is : \"))\n",
    " \n",
    "sum = j + k \n",
    " \n",
    "print(\" It's Addition is :\", sum)\n"
   ]
  },
  {
   "cell_type": "code",
   "execution_count": 7,
   "metadata": {},
   "outputs": [
    {
     "name": "stdout",
     "output_type": "stream",
     "text": [
      "Enter Marks Obtained in 5 Subjects: \n",
      "80\n",
      "90\n",
      "95\n",
      "75\n",
      "85\n",
      "Your Total Marks is: \n",
      "425\n",
      "Your Grade is A-\n"
     ]
    }
   ],
   "source": [
    "#7 Marks sheet, grades and average \n",
    "\n",
    "print(\"Enter Marks Obtained in 5 Subjects: \")\n",
    "mark1 = int(input())\n",
    "mark2 = int(input())\n",
    "mark3 = int(input())\n",
    "mark4 = int(input())\n",
    "mark5 = int(input())\n",
    "\n",
    "totalMarks = mark1+mark2+mark3+mark4+mark5\n",
    "\n",
    "avg = totalMarks/5\n",
    "\n",
    "print (\"Your Total Marks is: \") \n",
    "print (totalMarks);\n",
    "\n",
    "if avg>=91 and avg<=100:\n",
    "    print(\"Your Grade is A+\")\n",
    "elif avg>=81 and avg<91:\n",
    "    print(\"Your Grade is A-\")\n",
    "elif avg>=71 and avg<81:\n",
    "    print(\"Your Grade is B+\")\n",
    "elif avg>=61 and avg<71:\n",
    "    print(\"Your Grade is B-\")\n",
    "elif avg>=51 and avg<61:\n",
    "    print(\"Your Grade is C\")\n",
    "elif avg>=41 and avg<51:\n",
    "    print(\"Your Grade is C\")\n",
    "elif avg>=33 and avg<41:\n",
    "    print(\"Your Grade is D+\")\n",
    "elif avg>=21 and avg<33:\n",
    "    print(\"Your Grade is F \") \n",
    "else:\n",
    "    print(\"Invalid Input!\")\n"
   ]
  },
  {
   "cell_type": "code",
   "execution_count": 8,
   "metadata": {},
   "outputs": [
    {
     "name": "stdout",
     "output_type": "stream",
     "text": [
      "Enter any number: 9\n",
      "It's odd number\n"
     ]
    }
   ],
   "source": [
    "#8 Find even and odd numbers\n",
    "\n",
    "number = int(input(\"Enter any number: \"))\n",
    "check = number % 2\n",
    "if check > 0:\n",
    "    print(\"It's odd number\")\n",
    "else:\n",
    "    print(\"It's even number\")\n"
   ]
  },
  {
   "cell_type": "code",
   "execution_count": 9,
   "metadata": {},
   "outputs": [
    {
     "name": "stdout",
     "output_type": "stream",
     "text": [
      " List length is :  5\n"
     ]
    }
   ],
   "source": [
    "#9 Length of the list\n",
    "\n",
    "lengthFind = len([1, 2, 3, 4, 5])\n",
    "print(\" List length is : \", lengthFind)\n"
   ]
  },
  {
   "cell_type": "code",
   "execution_count": 1,
   "metadata": {},
   "outputs": [
    {
     "name": "stdout",
     "output_type": "stream",
     "text": [
      "How many numbers: 3\n",
      "Enter number 12\n",
      "Enter number 32\n",
      "Enter number 16\n",
      "Sum of the numbers in your given list is : 60\n"
     ]
    }
   ],
   "source": [
    "#10 Numbers in a list and it's sum \n",
    "myList = []\n",
    "numRange = int(input('How many numbers: '))\n",
    "for n in range(numRange):\n",
    "    numbers = int(input('Enter number '))\n",
    "    myList.append(numbers)\n",
    "print(\"Sum of the numbers in your given list is :\" , sum(myList))"
   ]
  },
  {
   "cell_type": "code",
   "execution_count": 10,
   "metadata": {},
   "outputs": [
    {
     "name": "stdout",
     "output_type": "stream",
     "text": [
      "The largest number of your list is : 75\n"
     ]
    }
   ],
   "source": [
    "#11 Largest number \n",
    "\n",
    "maxList = [15, 25, 10, 75, 33, 66]\n",
    "  \n",
    "print(\"The largest number of your list is :\", max(maxList))"
   ]
  },
  {
   "cell_type": "code",
   "execution_count": 1,
   "metadata": {},
   "outputs": [
    {
     "name": "stdout",
     "output_type": "stream",
     "text": [
      "1\n",
      "0\n",
      "3\n",
      "2\n",
      "4\n",
      "All these numbers are less than 5 \n"
     ]
    }
   ],
   "source": [
    "#12 All elements which are less than 5\n",
    "\n",
    "\n",
    "myList = [1, 0 ,6, 5, 7, 3, 2, 8, 4, 8, 13, 21, 34, 56, 60]\n",
    "\n",
    "for j in myList:\n",
    "\n",
    "    if j < 5:\n",
    "        \n",
    "        print(j);\n",
    "        \n",
    "print (\"All these numbers are less than 5 \")  "
   ]
  },
  {
   "cell_type": "code",
   "execution_count": null,
   "metadata": {},
   "outputs": [],
   "source": []
  }
 ],
 "metadata": {
  "kernelspec": {
   "display_name": "Python 3",
   "language": "python",
   "name": "python3"
  },
  "language_info": {
   "codemirror_mode": {
    "name": "ipython",
    "version": 3
   },
   "file_extension": ".py",
   "mimetype": "text/x-python",
   "name": "python",
   "nbconvert_exporter": "python",
   "pygments_lexer": "ipython3",
   "version": "3.8.5"
  }
 },
 "nbformat": 4,
 "nbformat_minor": 4
}
