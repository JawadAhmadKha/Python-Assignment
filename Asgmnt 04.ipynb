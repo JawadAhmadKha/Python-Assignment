{
 "cells": [
  {
   "cell_type": "markdown",
   "metadata": {},
   "source": [
    "#    Assignment # 4 Jawan Pakistan "
   ]
  },
  {
   "cell_type": "code",
   "execution_count": 6,
   "metadata": {},
   "outputs": [
    {
     "name": "stdout",
     "output_type": "stream",
     "text": [
      "\n",
      " Enter operation:\n",
      "+  add\n",
      "-  subtract\n",
      "*  multiply\n",
      "/  divide\n",
      "** power\n",
      "**\n",
      "Enter first number: 5\n",
      "Enter second number: 2\n",
      "5 power 2 = \n",
      "25\n"
     ]
    }
   ],
   "source": [
    "'''1. Make a calculator using Python with addition , subtraction , \n",
    "multiplication ,division and power.''' \n",
    "\n",
    "operation = input('''\n",
    " Enter operation:\n",
    "+  add\n",
    "-  subtract\n",
    "*  multiply\n",
    "/  divide\n",
    "** power\n",
    "''')\n",
    "\n",
    "number_1 = int(input('Enter first number: '))\n",
    "number_2 = int(input('Enter second number: '))\n",
    "\n",
    "if operation == '+':\n",
    "    print('{} + {} = '.format(number_1, number_2))\n",
    "    print(number_1 + number_2)\n",
    "\n",
    "elif operation == '-':\n",
    "    print('{} - {} = '.format(number_1, number_2))\n",
    "    print(number_1 - number_2)\n",
    "\n",
    "elif operation == '*':\n",
    "    print('{} * {} = '.format(number_1, number_2))\n",
    "    print(number_1 * number_2)\n",
    "\n",
    "elif operation == '/':\n",
    "    print('{} / {} = '.format(number_1, number_2))\n",
    "    print(number_1 / number_2)\n",
    "    \n",
    "elif operation == '**':\n",
    "    print('{} power {} = '.format(number_1, number_2))\n",
    "    print(number_1 ** number_2)\n",
    "\n",
    "\n",
    "else:\n",
    "    print('You have not typed a valid operator.')"
   ]
  },
  {
   "cell_type": "code",
   "execution_count": 7,
   "metadata": {},
   "outputs": [
    {
     "name": "stdout",
     "output_type": "stream",
     "text": [
      "3\n"
     ]
    }
   ],
   "source": [
    "'''2. Write a program to check if there is any numeric value \n",
    "in list using for loop.'''\n",
    "\n",
    "list = [\"abc\", \"def\", 3, \"ghi\"] \n",
    "for x in list: \n",
    "    if type(x) == int: \n",
    "        print(x)"
   ]
  },
  {
   "cell_type": "code",
   "execution_count": 1,
   "metadata": {},
   "outputs": [
    {
     "name": "stdout",
     "output_type": "stream",
     "text": [
      "{'a': 10, 'b': 20}\n",
      " Now Updated!\n",
      "{'a': 10, 'b': 20, 'c': 30}\n"
     ]
    }
   ],
   "source": [
    "''' 3. Write a Python script to add a key to a dictionary.'''\n",
    "\n",
    "dictionary = {'a':10, 'b':20}\n",
    "print(dictionary)\n",
    "dictionary.update({'c':30})\n",
    "\n",
    "print (\" Now Updated!\")\n",
    "print(dictionary )"
   ]
  },
  {
   "cell_type": "code",
   "execution_count": 2,
   "metadata": {},
   "outputs": [
    {
     "name": "stdout",
     "output_type": "stream",
     "text": [
      "Total Price is:\n",
      "470\n"
     ]
    }
   ],
   "source": [
    "'''4. Write a Python program to sum all the numeric\n",
    "items in a dictionary. '''\n",
    "\n",
    "fruit = {'Apple':120,'Grapes':200,'Mango':150}\n",
    "print (\"Total Price is:\")\n",
    "print(sum(fruit.values()))"
   ]
  },
  {
   "cell_type": "code",
   "execution_count": 15,
   "metadata": {},
   "outputs": [
    {
     "name": "stdout",
     "output_type": "stream",
     "text": [
      "List with duplication\n",
      "[0, 1, 1, 2, 3, 5, 3, 4, 6, 7, 9, 5]\n",
      "Duplicate values\n",
      "1 3 5 "
     ]
    }
   ],
   "source": [
    "''' 5. Write a program to identify duplicate values from list.'''\n",
    "dupList=[0,1,1,2,3,5,3,4,6,7,9,5]\n",
    "newList=[]\n",
    "\n",
    "print (\"List with duplication\")\n",
    "print (dupList)\n",
    "\n",
    "print (\"Duplicate values\")\n",
    "\n",
    "for i in dupList:\n",
    "    if i not in newList:\n",
    "        newList.append(i)\n",
    "    else:\n",
    "        print(i,end=' ')"
   ]
  },
  {
   "cell_type": "code",
   "execution_count": 5,
   "metadata": {},
   "outputs": [
    {
     "name": "stdout",
     "output_type": "stream",
     "text": [
      "This Dictionary :  {'Mon': 1, 'Tue': 2, 'Wed': 3, 'Thu': 4}\n",
      "Fri day is not Present.\n"
     ]
    }
   ],
   "source": [
    "''' 6. Write a Python script to check if a given key \n",
    "already exists in a  dictionary '''\n",
    "\n",
    "daysDic = {'Mon':1,'Tue':2,'Wed':3,'Thu':4}\n",
    "print(\"This Dictionary : \",daysDic)\n",
    "check_key = \"Fri\"\n",
    "if check_key in daysDic:\n",
    "   print(check_key,\"Day is Present.\")\n",
    "else:\n",
    "   print(check_key, \"day is not Present.\")"
   ]
  },
  {
   "cell_type": "code",
   "execution_count": null,
   "metadata": {},
   "outputs": [],
   "source": []
  }
 ],
 "metadata": {
  "kernelspec": {
   "display_name": "Python 3",
   "language": "python",
   "name": "python3"
  },
  "language_info": {
   "codemirror_mode": {
    "name": "ipython",
    "version": 3
   },
   "file_extension": ".py",
   "mimetype": "text/x-python",
   "name": "python",
   "nbconvert_exporter": "python",
   "pygments_lexer": "ipython3",
   "version": "3.8.5"
  }
 },
 "nbformat": 4,
 "nbformat_minor": 4
}
